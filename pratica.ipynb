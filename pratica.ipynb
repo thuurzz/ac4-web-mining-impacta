{
 "cells": [
  {
   "cell_type": "code",
   "execution_count": 2,
   "metadata": {},
   "outputs": [
    {
     "name": "stderr",
     "output_type": "stream",
     "text": [
      "[nltk_data] Downloading package punkt to /Users/thuurzz/nltk_data...\n",
      "[nltk_data]   Package punkt is already up-to-date!\n",
      "[nltk_data] Downloading package wordnet to /Users/thuurzz/nltk_data...\n",
      "[nltk_data]   Package wordnet is already up-to-date!\n",
      "[nltk_data] Downloading package averaged_perceptron_tagger to\n",
      "[nltk_data]     /Users/thuurzz/nltk_data...\n",
      "[nltk_data]   Package averaged_perceptron_tagger is already up-to-\n",
      "[nltk_data]       date!\n",
      "[nltk_data] Downloading package brown to /Users/thuurzz/nltk_data...\n",
      "[nltk_data]   Package brown is already up-to-date!\n",
      "[nltk_data] Downloading package stopwords to\n",
      "[nltk_data]     /Users/thuurzz/nltk_data...\n",
      "[nltk_data]   Package stopwords is already up-to-date!\n"
     ]
    },
    {
     "data": {
      "text/plain": [
       "True"
      ]
     },
     "execution_count": 2,
     "metadata": {},
     "output_type": "execute_result"
    }
   ],
   "source": [
    "# importando uma das principais bibliotecas de tratamento de texto\n",
    "import pandas as pd\n",
    "from textblob import TextBlob\n",
    "from nltk.tokenize import word_tokenize\n",
    "from nltk.corpus import stopwords\n",
    "import nltk\n",
    "\n",
    "# importando o modelo que vamos usar para classificar a frase\n",
    "nltk.download('punkt')\n",
    "nltk.download('wordnet')\n",
    "nltk.download('averaged_perceptron_tagger')\n",
    "nltk.download('brown')\n",
    "nltk.download('stopwords')"
   ]
  },
  {
   "attachments": {},
   "cell_type": "markdown",
   "metadata": {},
   "source": [
    "# Coleta da dados"
   ]
  },
  {
   "cell_type": "code",
   "execution_count": 7,
   "metadata": {},
   "outputs": [],
   "source": [
    "frase = 'Gostei da aplicação, mas não muito. Tive vários problemas.'\n",
    "exemplo = TextBlob(frase)\n",
    "exemplo = exemplo.translate(from_lang='pt', to='en')"
   ]
  },
  {
   "attachments": {},
   "cell_type": "markdown",
   "metadata": {},
   "source": [
    "# Pré processamento"
   ]
  },
  {
   "cell_type": "code",
   "execution_count": 11,
   "metadata": {},
   "outputs": [
    {
     "data": {
      "text/plain": [
       "Sentiment(polarity=0.16666666666666666, subjectivity=0.3333333333333333)"
      ]
     },
     "execution_count": 11,
     "metadata": {},
     "output_type": "execute_result"
    }
   ],
   "source": [
    "exemplo.sentiment"
   ]
  },
  {
   "cell_type": "code",
   "execution_count": 14,
   "metadata": {},
   "outputs": [
    {
     "name": "stdout",
     "output_type": "stream",
     "text": [
      "['Gostei', 'aplicação', ',', '.', 'Tive', 'vários', 'problemas', '.']\n"
     ]
    }
   ],
   "source": [
    "text_tokens = word_tokenize(str(frase))\n",
    "tokens_sem_sw = [word for word in text_tokens if word not in stopwords.words('portuguese')]\n",
    "print(tokens_sem_sw)"
   ]
  },
  {
   "cell_type": "code",
   "execution_count": 15,
   "metadata": {},
   "outputs": [
    {
     "name": "stdout",
     "output_type": "stream",
     "text": [
      "Gostei aplicação , . Tive vários problemas .\n"
     ]
    }
   ],
   "source": [
    "filtered_sentence = (\" \").join(tokens_sem_sw)\n",
    "print(filtered_sentence)"
   ]
  },
  {
   "cell_type": "code",
   "execution_count": 16,
   "metadata": {},
   "outputs": [
    {
     "data": {
      "text/plain": [
       "TextBlob(\"I liked application ,. I had several problems.\")"
      ]
     },
     "execution_count": 16,
     "metadata": {},
     "output_type": "execute_result"
    }
   ],
   "source": [
    "exemplo = TextBlob(filtered_sentence)\n",
    "exemplo = exemplo.translate(from_lang='pt', to='en')\n",
    "exemplo"
   ]
  },
  {
   "cell_type": "code",
   "execution_count": 18,
   "metadata": {},
   "outputs": [
    {
     "data": {
      "text/html": [
       "<div>\n",
       "<style scoped>\n",
       "    .dataframe tbody tr th:only-of-type {\n",
       "        vertical-align: middle;\n",
       "    }\n",
       "\n",
       "    .dataframe tbody tr th {\n",
       "        vertical-align: top;\n",
       "    }\n",
       "\n",
       "    .dataframe thead th {\n",
       "        text-align: right;\n",
       "    }\n",
       "</style>\n",
       "<table border=\"1\" class=\"dataframe\">\n",
       "  <thead>\n",
       "    <tr style=\"text-align: right;\">\n",
       "      <th></th>\n",
       "      <th>frase</th>\n",
       "      <th>polaridade</th>\n",
       "      <th>subjetividade</th>\n",
       "    </tr>\n",
       "  </thead>\n",
       "  <tbody>\n",
       "    <tr>\n",
       "      <th>0</th>\n",
       "      <td>Gostei da aplicação, mas não muito. Tive vário...</td>\n",
       "      <td>0.3</td>\n",
       "      <td>0.4</td>\n",
       "    </tr>\n",
       "  </tbody>\n",
       "</table>\n",
       "</div>"
      ],
      "text/plain": [
       "                                               frase  polaridade  \\\n",
       "0  Gostei da aplicação, mas não muito. Tive vário...         0.3   \n",
       "\n",
       "   subjetividade  \n",
       "0            0.4  "
      ]
     },
     "execution_count": 18,
     "metadata": {},
     "output_type": "execute_result"
    }
   ],
   "source": [
    "polaridade = exemplo.sentiment[0]\n",
    "subjetividade = exemplo.sentiment[1]\n",
    "df = pd.DataFrame([[frase, polaridade, subjetividade]], columns=[\n",
    "                  'frase', 'polaridade', 'subjetividade'])\n",
    "df"
   ]
  },
  {
   "attachments": {},
   "cell_type": "markdown",
   "metadata": {},
   "source": [
    "# Pipeline"
   ]
  },
  {
   "cell_type": "code",
   "execution_count": 19,
   "metadata": {},
   "outputs": [],
   "source": [
    "def traduz(frase):\n",
    "    exemplo = TextBlob(frase)\n",
    "    exemplo = exemplo.translate(from_lang='pt', to='en')\n",
    "    return exemplo"
   ]
  },
  {
   "cell_type": "code",
   "execution_count": 20,
   "metadata": {},
   "outputs": [],
   "source": [
    "def trata(frase):\n",
    "    text_tokens = word_tokenize(str(frase))\n",
    "    tokens_without_sw = [\n",
    "        word for word in text_tokens if not word in stopwords.words('portuguese')]\n",
    "    filtered_sentence = (\" \").join(tokens_without_sw)\n",
    "    return filtered_sentence"
   ]
  },
  {
   "cell_type": "code",
   "execution_count": 21,
   "metadata": {},
   "outputs": [],
   "source": [
    "def previsao(frase):\n",
    "    exemplo = TextBlob(frase)\n",
    "    polaridade = exemplo.sentiment[0]\n",
    "    subjetividade = exemplo.sentiment[1]\n",
    "    df = pd.DataFrame([[frase, polaridade, subjetividade]], columns=[\n",
    "                      'frase', 'polaridade', 'subjetividade'])\n",
    "    df['sentimento'] = 'neutro'\n",
    "    df.loc[df.polaridade < -0.25, 'sentimento'] = 'negativo'\n",
    "    df.loc[df.polaridade > 0.25, 'sentimento'] = 'positivo'\n",
    "    return df.to_json('dados.json', orient='columns'), polaridade, subjetividade"
   ]
  },
  {
   "cell_type": "code",
   "execution_count": 23,
   "metadata": {},
   "outputs": [
    {
     "data": {
      "text/plain": [
       "(None, -0.9099999999999998, 0.8666666666666667)"
      ]
     },
     "execution_count": 23,
     "metadata": {},
     "output_type": "execute_result"
    }
   ],
   "source": [
    "frase = input('Digite algo')\n",
    "string = traduz(frase)\n",
    "string = trata(string)\n",
    "previsao(string)"
   ]
  }
 ],
 "metadata": {
  "kernelspec": {
   "display_name": "Python 3",
   "language": "python",
   "name": "python3"
  },
  "language_info": {
   "codemirror_mode": {
    "name": "ipython",
    "version": 3
   },
   "file_extension": ".py",
   "mimetype": "text/x-python",
   "name": "python",
   "nbconvert_exporter": "python",
   "pygments_lexer": "ipython3",
   "version": "3.11.2"
  },
  "orig_nbformat": 4
 },
 "nbformat": 4,
 "nbformat_minor": 2
}
